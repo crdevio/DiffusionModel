{
 "cells": [
  {
   "cell_type": "markdown",
   "id": "67a4164d-89d8-4e51-a2e3-885364613977",
   "metadata": {
    "id": "67a4164d-89d8-4e51-a2e3-885364613977"
   },
   "source": [
    "# Génération de gaussienne par modèle de diffusion"
   ]
  },
  {
   "cell_type": "markdown",
   "id": "93696dac-13a7-4ed3-9f60-98676d9f7d14",
   "metadata": {},
   "source": [
    "<h2>Importation</h2>"
   ]
  },
  {
   "cell_type": "code",
   "execution_count": 11,
   "id": "22d2d50a-8fa7-4b11-add3-d3918c1fd60f",
   "metadata": {
    "colab": {
     "base_uri": "https://localhost:8080/",
     "height": 35
    },
    "id": "22d2d50a-8fa7-4b11-add3-d3918c1fd60f",
    "outputId": "21ca5beb-bacc-4b8a-f9cc-cf1fae1f2947"
   },
   "outputs": [],
   "source": [
    "import torch\n",
    "from torch import nn\n",
    "from torch.nn import functional as F\n",
    "from torch import normal\n",
    "from torch.utils.data import Dataset, DataLoader\n",
    "from torchvision import datasets, transforms\n",
    "import matplotlib.pyplot as plt\n",
    "import numpy as np\n",
    "\n",
    "device = \"cuda\" if torch.cuda.is_available() else \"cpu\"\n",
    "device = \"cpu\""
   ]
  },
  {
   "cell_type": "markdown",
   "id": "fc97627d-bf33-440b-898f-92e43bc3b547",
   "metadata": {},
   "source": [
    "<h2>Affichage des points</h2>"
   ]
  },
  {
   "cell_type": "markdown",
   "id": "6f110fb2-45f2-4ace-ae66-906b7254f15f",
   "metadata": {},
   "source": [
    "<p>Fonction qui prend en argument des points sous forme de tableau numpy ou bien de tensor et qui les affiche</p>"
   ]
  },
  {
   "cell_type": "code",
   "execution_count": 12,
   "id": "b7eada87-14b0-4f28-aa12-e0e4cfd1673b",
   "metadata": {
    "colab": {
     "base_uri": "https://localhost:8080/",
     "height": 485
    },
    "id": "b7eada87-14b0-4f28-aa12-e0e4cfd1673b",
    "outputId": "77f5d8f1-796f-44c8-d70d-1f1bef7e1274"
   },
   "outputs": [],
   "source": [
    "def show_points(X):\n",
    "    nb_points, dim = X.shape\n",
    "    plt.figure(figsize=(dim*(dim-1) * 10,5))\n",
    "    nb_plot = 0\n",
    "    for d1 in range(dim):\n",
    "        for d2 in range(d1 + 1, dim):\n",
    "            xs, ys = [], []\n",
    "            nb_plot += 1\n",
    "            for i in range(nb_points):\n",
    "                xs.append(X[i][d1])\n",
    "                ys.append(X[i][d2])\n",
    "            plt.subplot(1, dim**2, nb_plot)\n",
    "            plt.title(f\"({d1},{d2})\")\n",
    "            plt.scatter(xs, ys, marker='+')\n",
    "    plt.show()\n",
    "    return"
   ]
  },
  {
   "cell_type": "markdown",
   "id": "c5bd1717-5340-41e4-b179-ff2e8bcf0e43",
   "metadata": {},
   "source": [
    "<h2>Modèles</h2>"
   ]
  },
  {
   "cell_type": "markdown",
   "id": "57111891-705e-42d9-9ab6-07acc6e91a0e",
   "metadata": {},
   "source": [
    "<p>On utilise différent modèles : \n",
    "    <ul>\n",
    "        <li>Le modèle Net. C'était notre modèle initiale qui contient seulement quelques couches linéaires</li>\n",
    "        <li>DiffusionBlock : Contient le block du milieu pour le modèle DiffusionModel</li>\n",
    "        <li>DiffusionModel : Contient un modèle assez similaire à celui utilisé dans le notebook</li>\n",
    "        <li>Diff : Modèle qui va gérer toute la diffusion</li>\n",
    "</p>"
   ]
  },
  {
   "cell_type": "code",
   "execution_count": 25,
   "id": "36c3772a-e103-4adf-81f6-5ed2e80892b9",
   "metadata": {
    "id": "36c3772a-e103-4adf-81f6-5ed2e80892b9"
   },
   "outputs": [],
   "source": [
    "class DiffusionBlock(nn.Module):\n",
    "    def __init__(self, nunits):\n",
    "        super(DiffusionBlock, self).__init__()\n",
    "        self.linear = nn.Linear(nunits, nunits)\n",
    "        \n",
    "    def forward(self, x: torch.Tensor):\n",
    "        x = self.linear(x)\n",
    "        x = nn.functional.relu(x)\n",
    "        return x\n",
    "        \n",
    "class DiffusionModel(nn.Module):\n",
    "    def __init__(self, nfeatures: int, nblocks: int = 2, nunits: int = 64):\n",
    "        super(DiffusionModel, self).__init__()\n",
    "        \n",
    "        self.inblock = nn.Linear(nfeatures+1, nunits)\n",
    "        self.midblocks = nn.ModuleList([DiffusionBlock(nunits) for _ in range(nblocks)])\n",
    "        self.outblock = nn.Linear(nunits, nfeatures)\n",
    "\n",
    "    def forward(self, x: torch.Tensor, t: torch.Tensor) -> torch.Tensor:\n",
    "        t = t.reshape(-1, 1)\n",
    "        val = torch.hstack([x, t])  # Add t to inputs\n",
    "        val = self.inblock(val)\n",
    "        for midblock in self.midblocks:\n",
    "            val = midblock(val)\n",
    "        val = self.outblock(val)\n",
    "        return val\n",
    "\n",
    "class Diff(nn.Module):\n",
    "    def __init__(self,network, num_timesteps,beta_start = 1e-4, beta_end = 0.1, device = \"cpu\"):\n",
    "        super(Diff,self).__init__()\n",
    "        self.num_timesteps = num_timesteps\n",
    "        self.network = network\n",
    "        self.device = device\n",
    "        \n",
    "        s = 0.008\n",
    "        timesteps = torch.tensor(range(0, num_timesteps), dtype=torch.float32)\n",
    "        schedule = torch.cos((timesteps / num_timesteps + s) / (1 + s) * torch.pi / 2)**2\n",
    "        self.alphas_cumprod = schedule / schedule[0]\n",
    "        self.sqrt_alphas_cumprod = self.alphas_cumprod**0.5\n",
    "        self.sqrt_one_minus_alphas_cumprod = (1 - self.alphas_cumprod)**0.5\n",
    "        self.betas = 1 - self.alphas_cumprod / torch.concatenate([self.alphas_cumprod[0:1], self.alphas_cumprod[0:-1]])\n",
    "        self.alphas = 1 - self.betas\n",
    "\n",
    "    def plot_alphacumprods(self):\n",
    "        #Fonction qui permet d'afficher les beta et de vérifier que la courbe a à peu près la forme voulue\n",
    "        plt.plot(torch.arange(1, num_timesteps + 1), self.alphas_cumprod)\n",
    "        plt.show()\n",
    "        \n",
    "    def add_noise(self, x_start, x_noise, timesteps):\n",
    "        s1 = self.sqrt_alphas_cumprod[timesteps].reshape(-1, 1).to(device) # bs\n",
    "        s2 = self.sqrt_one_minus_alphas_cumprod[timesteps].reshape(-1, 1).to(device) # bs\n",
    "        return s1 * x_start + s2 * x_noise\n",
    "        \n",
    "    def reverse(self,x,t):\n",
    "        return self.network(x,t)\n",
    "        \n",
    "    def step(self, model_output, timestep, sample):\n",
    "        # model_output = epsilon_theta, timestep = t, sample = x_t\n",
    "        # but: avoir x_{t-1}\n",
    "        t = timestep\n",
    "        coef_eps_t = ((1 - self.alphas[t]) / self.sqrt_one_minus_alphas_cumprod[t]).reshape(-1,1).to(device)\n",
    "        coef_first_t = (1 / self.alphas[t] ** 0.5).reshape(-1,1).to(device)\n",
    "        pred_prev_sample = (coef_first_t * (sample - coef_eps_t * model_output)).to(device)\n",
    "        variance = 0\n",
    "        if t > 1:\n",
    "            noise = torch.randn_like(model_output).to(self.device)\n",
    "            variance = ((self.betas[t] ** 0.5) * noise).to(device)\n",
    "\n",
    "        pred_prev_sample = pred_prev_sample + variance\n",
    "        return pred_prev_sample.to(device)"
   ]
  },
  {
   "cell_type": "markdown",
   "id": "da96b27e-d51c-4ceb-9f8f-d50fde1cb049",
   "metadata": {},
   "source": [
    "<h2>Training loop</h2>\n",
    "<p>La training loop est simple, on optimise pour apprendre le bruit aouté à chaque étape</p>"
   ]
  },
  {
   "cell_type": "code",
   "execution_count": 14,
   "id": "334cad5a-60f7-4bbd-ab8e-3e317b4e3484",
   "metadata": {
    "id": "334cad5a-60f7-4bbd-ab8e-3e317b4e3484"
   },
   "outputs": [],
   "source": [
    "def training_loop(model,dataloader,optim,num_ep,num_timesteps,device=device):\n",
    "    global_step = 0\n",
    "    losses = []\n",
    "    \n",
    "    for epoch in range(num_ep):\n",
    "        if epoch != 0 and epoch % 10 == 0:\n",
    "            print(f\"New epoch ({epoch}) last losses: {losses[-1]}, average lost on the last ten epoch : {sum(losses[-10:]) / 10}\")\n",
    "        model.train()\n",
    "        l = 0\n",
    "        \n",
    "        for step, batch in enumerate(dataloader):\n",
    "            batch = batch.to(device) # les x0 avec lesquels je vais me train.\n",
    "            eps = torch.randn(batch.shape).to(device) # un epsilon par x0 pour les flouter\n",
    "            timesteps = torch.randint(model.num_timesteps,(batch.shape[0],)).long().to(device)\n",
    "            noisy = model.add_noise(batch, eps, timesteps) # xt\n",
    "            noise_pred = model.reverse(noisy, timesteps) # on essaye de prédire le epsilon à partir des images floutées.\n",
    "            loss = F.mse_loss(noise_pred, eps)\n",
    "            optim.zero_grad()\n",
    "            loss.backward()\n",
    "            optim.step()\n",
    "            l += loss.detach().item()\n",
    "            global_step += 1\n",
    "        losses.append(l / len(dataloader))\n",
    "        \n",
    "    plt.plot(torch.arange(num_ep), losses)\n",
    "    plt.show()"
   ]
  },
  {
   "cell_type": "markdown",
   "id": "51a48dd2-df76-4d29-96ba-c1485d372959",
   "metadata": {},
   "source": [
    "<h2>Dataset</h2>\n",
    "<p>On créer une classe MultivariateNormalDataset qui permet de générer des points selon différentes distributions gaussiennes. A terme, le but serait d'avoir différentes classe permettant d'avoir différents types de distributions afin de vérifier que ça apprend bien à chaque fois</p>"
   ]
  },
  {
   "cell_type": "code",
   "execution_count": 15,
   "id": "90da8e3b-2c09-4163-b5ed-06146b994bae",
   "metadata": {
    "id": "90da8e3b-2c09-4163-b5ed-06146b994bae"
   },
   "outputs": [],
   "source": [
    "class MultivariateNormalDataset(Dataset):\n",
    "    def __init__(self, mean, std, num_samples):\n",
    "        mean = mean.expand(num_samples, -1)\n",
    "        std = std.expand(num_samples, -1)\n",
    "        self.data = torch.normal(mean=mean, std=std)\n",
    "        self.num_samples = num_samples\n",
    "\n",
    "    def __len__(self):\n",
    "        return self.num_samples\n",
    "\n",
    "    def __getitem__(self, idx):\n",
    "        return self.data[idx]"
   ]
  },
  {
   "cell_type": "markdown",
   "id": "d915e7e9-b454-446d-a779-3601a00825ad",
   "metadata": {},
   "source": [
    "<h2>Génération de points</h2>"
   ]
  },
  {
   "cell_type": "code",
   "execution_count": 16,
   "id": "94c43306-796c-4496-9e6e-a97a5e3b408b",
   "metadata": {},
   "outputs": [],
   "source": [
    "def genere_un_point(model):\n",
    "    sample = torch.randn(dim).unsqueeze(0).to(device)\n",
    "    evolution = sample.clone().detach()\n",
    "    model.eval()\n",
    "    with torch.no_grad():\n",
    "        timesteps = list(range(1, model.num_timesteps))[::-1]\n",
    "        for t in timesteps:\n",
    "            time_tensor = (torch.ones(1,) * t).long().to(device)\n",
    "            residual = model.reverse(sample,time_tensor)\n",
    "            sample = model.step(residual,time_tensor,sample)\n",
    "            evolution = torch.concatenate((evolution, sample))\n",
    "            # p(xt-1 | xt), prend en entrée le epislon_theta, et le temps où on est, et la version floutée.\n",
    "    return sample, evolution\n",
    "\n",
    "def genere_points(nb_points, model):\n",
    "    X = torch.tensor([])\n",
    "    X = X.to('cpu')\n",
    "    evolution_X = torch.tensor([])\n",
    "    evolution_X = evolution_X.to('cpu')\n",
    "    \n",
    "    for i in range(nb_points):\n",
    "        if i % 100 ==0 and i != 0: \n",
    "            print(f\"generated {i} points.\")\n",
    "        x, evolution_x = genere_un_point(model)\n",
    "        x = x.to('cpu')\n",
    "        evolution_x = evolution_x.to('cpu')\n",
    "        X = torch.concatenate((X, x))\n",
    "        evolution_X = torch.concatenate((evolution_X, evolution_x.reshape(1, -1, 2)), axis=0)\n",
    "\n",
    "    return X, evolution_X"
   ]
  },
  {
   "cell_type": "markdown",
   "id": "9292b2a9-4a5d-46cb-aeb7-e4037d69a412",
   "metadata": {},
   "source": [
    "<h2>Routine d'entraînement</h2>\n",
    "<p>C'est ici qu'on définit notre routine d'entraîenement et d'affichage des résultats qui est globalement la même. Elle est composée de\n",
    "<ul>\n",
    "    <li>Entraînement du modèle</li>\n",
    "    <li>Affichage des résultats sous la forme de plusieurs étapes qui montre comment les points vont se déplacer petit à petit vers la distribution voulue</li>\n",
    "</ul>\n",
    "</p>"
   ]
  },
  {
   "cell_type": "code",
   "execution_count": 17,
   "id": "5044be08-58eb-4a58-a333-d089ecc1d909",
   "metadata": {},
   "outputs": [],
   "source": [
    "def routine(network, model, dataset, dataloader, num_epochs, num_timesteps, num_points_genere, nb_etape_affiche, figsize=(16,4), lr=1e-3):\n",
    "    \n",
    "    optimizer = torch.optim.Adam(network.parameters(), lr=lr)\n",
    "    training_loop(model, dataloader, optimizer, num_epochs, num_timesteps)\n",
    "\n",
    "    X, evolution_X = genere_points(num_points_genere, model)\n",
    "    #show_points(X)\n",
    "\n",
    "    fig, axes = plt.subplots(1, nb_etape_affiche, figsize=figsize)\n",
    "    #positions = [int(i * (num_timesteps - 1) / (nb_etape_affiche - 1)) for i in range(nb_etape_affiche)]\n",
    "    positions = [i for i in range(num_timesteps - nb_etape_affiche, num_timesteps)]\n",
    "\n",
    "    for (i, pos) in enumerate(positions):\n",
    "        axes[i].scatter(dataset.data[:, 0], dataset.data[:, 1], color='blue', marker='+')\n",
    "        axes[i].scatter(evolution_X[:, pos, 0], evolution_X[:, pos, 1], color='red', marker='+')\n",
    "\n",
    "    plt.tight_layout()\n",
    "    plt.show()\n",
    "\n",
    "    return X"
   ]
  },
  {
   "cell_type": "markdown",
   "id": "211acfce-a7c6-4337-b22c-c2c5f3711f45",
   "metadata": {},
   "source": [
    "<h2>Mise en pratique</h2>\n",
    "<p>On va entraîner notre modèle sur des distributions de difficultés variables. A noter qu'il semble qu'à chaque fois il est nécéssaire de redéfinir toutes les constantes beta_start, beta_end, nombre de sample et nombre d'étapes de bruitage parce que c'est directement lié au dataset qu'on essaie de générer. En effet, il faut faire d'avoir le bon nombre de num_steps de sorte que ça suffise pour transformer notre distribution initiale en quelques chose de gaussien centré en 0 et de variance 1, mais pas plus car autrement ça fausse les résultats à la fin. Pour cela, on commence par créer une fonction plot_full_noise qui permet d'appliquer tout le bruit sur notre dataset de départ et de voir si la pahse de bruitage est suffisament longue</p>"
   ]
  },
  {
   "cell_type": "code",
   "execution_count": 18,
   "id": "dbedd388-12cf-4704-adde-f96dfef330a9",
   "metadata": {},
   "outputs": [],
   "source": [
    "def get_full_noise(dataset, model):\n",
    "    noise = torch.randn(dataset.data.shape).to(device) # un epsilon par x0 pour les flouter\n",
    "    timesteps = torch.full((dataset.data.shape[0],), model.num_timesteps - 1).long().to(device)\n",
    "    noisy = model.add_noise(dataset.data, noise, timesteps)\n",
    "    return noisy "
   ]
  },
  {
   "cell_type": "markdown",
   "id": "7fb52c36-f44b-4c81-9367-b2ec1afedf73",
   "metadata": {},
   "source": [
    "<h3>Gaussiennes</h3>"
   ]
  },
  {
   "cell_type": "code",
   "execution_count": 30,
   "id": "c9813973-737a-448a-b04e-093bcf874282",
   "metadata": {
    "id": "c9813973-737a-448a-b04e-093bcf874282"
   },
   "outputs": [],
   "source": [
    "num_samples = 10000  # Number of samples\n",
    "batch_size = 2048   # Batch size\n",
    "\n",
    "#On commence avec une gaussienne centrée en (6, 6) et avec une variance de (2, 2)\n",
    "dim=2\n",
    "mean = 4*torch.ones((dim,))\n",
    "std = 2*torch.ones((dim,))\n",
    "\n",
    "dataset = MultivariateNormalDataset(mean,std, num_samples)\n",
    "dataloader = DataLoader(dataset, batch_size=batch_size, shuffle=True)"
   ]
  },
  {
   "cell_type": "code",
   "execution_count": 31,
   "id": "c5228f93-7a56-4e4d-ab66-b730d986dbc8",
   "metadata": {
    "colab": {
     "base_uri": "https://localhost:8080/"
    },
    "id": "c5228f93-7a56-4e4d-ab66-b730d986dbc8",
    "outputId": "0388be1a-c0d9-48c0-c3e4-c49a7bd92914"
   },
   "outputs": [
    {
     "data": {
      "image/png": "[encoded data removed]",
      "text/plain": [
       "<Figure size 640x480 with 1 Axes>"
      ]
     },
     "metadata": {},
     "output_type": "display_data"
    },
    {
     "name": "stdout",
     "output_type": "stream",
     "text": [
      "DiffusionModel(\n",
      "  (inblock): Linear(in_features=3, out_features=64, bias=True)\n",
      "  (midblocks): ModuleList(\n",
      "    (0-1): 2 x DiffusionBlock(\n",
      "      (linear): Linear(in_features=64, out_features=64, bias=True)\n",
      "    )\n",
      "  )\n",
      "  (outblock): Linear(in_features=64, out_features=2, bias=True)\n",
      ")\n"
     ]
    },
    {
     "data": {
      "image/png": "[encoded data removed]",
      "text/plain": [
       "<Figure size 640x480 with 1 Axes>"
      ]
     },
     "metadata": {},
     "output_type": "display_data"
    },
    {
     "name": "stdout",
     "output_type": "stream",
     "text": [
      "Moyenne de la distribution d'entraînement : tensor([3.9863, 4.0032])\n",
      "Variance de la distribution initiale : tensor([2.0132, 2.0068])\n",
      "Moyenne de la distribution bruitée : tensor([0.3208, 0.3086])\n",
      "Variance de la distribution bruitée : tensor([1.0075, 1.0143])\n"
     ]
    }
   ],
   "source": [
    "num_epochs = 1000\n",
    "num_timesteps = 20\n",
    "\n",
    "network = DiffusionModel(dim, nblocks=2, nunits=64).to(device)\n",
    "model = Diff(network,num_timesteps,device = device)\n",
    "model.plot_alphacumprods()\n",
    "print(network)\n",
    "\n",
    "plt.scatter(dataset.data[:, 0], dataset.data[:, 1], color='red')\n",
    "noisy = get_full_noise(dataset, model)\n",
    "plt.scatter(noisy[:, 0], noisy[:, 1], color='blue')\n",
    "plt.show()\n",
    "\n",
    "print(f\"Moyenne de la distribution d'entraînement : {torch.mean(dataset.data, axis=0)}\")\n",
    "print(f\"Variance de la distribution initiale : {torch.std(dataset.data, axis=0)}\")\n",
    "print(f\"Moyenne de la distribution bruitée : {torch.mean(noisy, axis=0)}\")\n",
    "print(f\"Variance de la distribution bruitée : {torch.std(noisy, axis=0)}\")"
   ]
  },
  {
   "cell_type": "code",
   "execution_count": 32,
   "id": "5d07e837-7387-4308-ac9e-af3c0544415e",
   "metadata": {},
   "outputs": [
    {
     "ename": "NameError",
     "evalue": "name 'num_epoch' is not defined",
     "output_type": "error",
     "traceback": [
      "\u001b[0;31m---------------------------------------------------------------------------\u001b[0m",
      "\u001b[0;31mNameError\u001b[0m                                 Traceback (most recent call last)",
      "Cell \u001b[0;32mIn[32], line 1\u001b[0m\n\u001b[0;32m----> 1\u001b[0m X \u001b[38;5;241m=\u001b[39m routine(network, model, dataset, dataloader, \u001b[43mnum_epoch\u001b[49m, num_timesteps, \u001b[38;5;241m1000\u001b[39m, \u001b[38;5;241m4\u001b[39m)\n\u001b[1;32m      2\u001b[0m \u001b[38;5;28mprint\u001b[39m(\u001b[38;5;124mf\u001b[39m\u001b[38;5;124m\"\u001b[39m\u001b[38;5;124mMoyenne de la distribution obtenue : \u001b[39m\u001b[38;5;132;01m{\u001b[39;00mtorch\u001b[38;5;241m.\u001b[39mmean(X,\u001b[38;5;250m \u001b[39maxis\u001b[38;5;241m=\u001b[39m\u001b[38;5;241m0\u001b[39m)\u001b[38;5;132;01m}\u001b[39;00m\u001b[38;5;124m\"\u001b[39m)\n\u001b[1;32m      3\u001b[0m \u001b[38;5;28mprint\u001b[39m(\u001b[38;5;124mf\u001b[39m\u001b[38;5;124m\"\u001b[39m\u001b[38;5;124mVariance de la distribution obtenue : \u001b[39m\u001b[38;5;132;01m{\u001b[39;00mtorch\u001b[38;5;241m.\u001b[39mstd(X,\u001b[38;5;250m \u001b[39maxis\u001b[38;5;241m=\u001b[39m\u001b[38;5;241m0\u001b[39m)\u001b[38;5;132;01m}\u001b[39;00m\u001b[38;5;124m\"\u001b[39m)\n",
      "\u001b[0;31mNameError\u001b[0m: name 'num_epoch' is not defined"
     ]
    }
   ],
   "source": [
    "X = routine(network, model, dataset, dataloader, num_epochs, num_timesteps, 1000, 4)\n",
    "print(f\"Moyenne de la distribution obtenue : {torch.mean(X, axis=0)}\")\n",
    "print(f\"Variance de la distribution obtenue : {torch.std(X, axis=0)}\")"
   ]
  },
  {
   "cell_type": "markdown",
   "id": "eb9a76f2-8b31-4d34-9f04-c1a275665367",
   "metadata": {},
   "source": [
    "<h2>Distribution en spirale</h2>\n",
    "<p>Distribution en forme de spirale qui normalement devrait être un peu plus dure à apprendre. Petite remarque : jusqu'à maintenant on ne faisait pas le classique centralisation + normalisation avant d'apprendre parce que ça aurait un peu faussé tout l'intérêt de nos distributions précédentes, mais à partir de maintenant il faut le faire</p>"
   ]
  },
  {
   "cell_type": "code",
   "execution_count": null,
   "id": "WU7nJl__FiGf",
   "metadata": {
    "id": "WU7nJl__FiGf"
   },
   "outputs": [],
   "source": [
    "class SpiraleDataset(Dataset):\n",
    "    def __init__(self, theta_max, a, b, num_samples):\n",
    "        theta = torch.rand(num_samples) * theta_max\n",
    "        radius = a + b * theta\n",
    "        \n",
    "        self.data = torch.stack((radius * torch.cos(theta), radius * torch.sin(theta)), dim=1)\n",
    "        self.data -= torch.mean(self.data, axis=0)\n",
    "        self.data /= torch.std(self.data, axis=0)\n",
    "        \n",
    "        self.num_samples = num_samples\n",
    "\n",
    "    def __len__(self):\n",
    "        return self.num_samples\n",
    "\n",
    "    def __getitem__(self, idx):\n",
    "        return self.data[idx]"
   ]
  },
  {
   "cell_type": "code",
   "execution_count": null,
   "id": "em88v_sRIWxm",
   "metadata": {
    "colab": {
     "base_uri": "https://localhost:8080/",
     "height": 485
    },
    "id": "em88v_sRIWxm",
    "outputId": "e7647c2a-5cca-42b2-8d4a-019b17edab57"
   },
   "outputs": [],
   "source": [
    "num_samples = 10000  # Number of samples\n",
    "batch_size = 2048   # Batch size\n",
    "\n",
    "dataset_spirale = SpiraleDataset(5 * torch.pi, 0, 5, num_samples)\n",
    "show_points(dataset_spirale.data)\n",
    "dataloader_spirale = DataLoader(dataset_spirale, batch_size=batch_size, shuffle=True)"
   ]
  },
  {
   "cell_type": "code",
   "execution_count": null,
   "id": "Rqc8uNi3JPt0",
   "metadata": {
    "colab": {
     "base_uri": "https://localhost:8080/"
    },
    "id": "Rqc8uNi3JPt0",
    "outputId": "fafbad9e-2a01-4d85-8143-39f3308cc8fd"
   },
   "outputs": [],
   "source": [
    "num_epochs = 1000\n",
    "num_timesteps = 8\n",
    "\n",
    "network_spirale = DiffusionModel(dim, nblocks=4, nunits=64).to(device)\n",
    "model_spirale = Diff(network_spirale, num_timesteps, device = device)\n",
    "model_spirale.plot_alphacumprods()\n",
    "\n",
    "noisy = get_full_noise(dataset_spirale, model_spirale)\n",
    "plt.scatter(noisy[:, 0], noisy[:, 1], color='blue')\n",
    "plt.scatter(dataset_spirale.data[:, 0], dataset_spirale.data[:, 1], color='red')\n",
    "plt.show()\n",
    "\n",
    "#print(f\"Moyenne de la distribution bruitée : {torch.mean(noisy, axis=0)}\")\n",
    "#print(f\"Variance de la distribution bruitée : {torch.std(noisy, axis=0)}\")"
   ]
  },
  {
   "cell_type": "code",
   "execution_count": null,
   "id": "de9f1248-090a-4b87-b109-5ad6832dabe6",
   "metadata": {},
   "outputs": [],
   "source": [
    "X = routine(network_spirale, model_spirale, dataset_spirale, dataloader_spirale, 1000, num_timesteps, 1000, 8, figsize=(40, 4))"
   ]
  },
  {
   "cell_type": "markdown",
   "id": "c3b1b78f-1bf6-4e05-8714-3bda52359103",
   "metadata": {},
   "source": [
    "<h2>MNIST</h2>\n",
    "<p>Maintenant on va commencer à générer des vraies images en commençant par MNIST. On commence à utiliser des U-NET pour pouvoir traiter les images correctement</p>"
   ]
  },
  {
   "cell_type": "code",
   "execution_count": null,
   "id": "c3a9ba1d-660c-4047-b752-563e55b06a34",
   "metadata": {},
   "outputs": [],
   "source": [
    "import torch\n",
    "import torch.nn as nn\n",
    "def double_convolution(in_channels, out_channels):\n",
    "    \"\"\"\n",
    "    In the original paper implementation, the convolution operations were\n",
    "    not padded but we are padding them here. This is because, we need the \n",
    "    output result size to be same as input size.\n",
    "    \"\"\"\n",
    "    conv_op = nn.Sequential(\n",
    "        nn.Conv2d(in_channels, out_channels, kernel_size=3, padding=1),\n",
    "        nn.ReLU(inplace=True),\n",
    "        nn.Conv2d(out_channels, out_channels, kernel_size=3, padding=1),\n",
    "        nn.ReLU(inplace=True)\n",
    "    )\n",
    "    return conv_op\n",
    "\n",
    "\n",
    "class UNet(nn.Module):\n",
    "    def __init__(self, num_classes):\n",
    "        super(UNet, self).__init__()\n",
    "        self.max_pool2d = nn.MaxPool2d(kernel_size=2, stride=2)\n",
    "        # Contracting path.\n",
    "        # Each convolution is applied twice.\n",
    "        self.down_convolution_1 = double_convolution(3, 64)\n",
    "        self.down_convolution_2 = double_convolution(64, 128)\n",
    "        self.down_convolution_3 = double_convolution(128, 256)\n",
    "        self.down_convolution_4 = double_convolution(256, 512)\n",
    "        self.down_convolution_5 = double_convolution(512, 1024)\n",
    "        # Expanding path.\n",
    "        self.up_transpose_1 = nn.ConvTranspose2d(\n",
    "            in_channels=1024, out_channels=512,\n",
    "            kernel_size=2, \n",
    "            stride=2)\n",
    "        # Below, in_channels again becomes 1024 as we are concatinating.\n",
    "        self.up_convolution_1 = double_convolution(1024, 512)\n",
    "        self.up_transpose_2 = nn.ConvTranspose2d(\n",
    "            in_channels=512, out_channels=256,\n",
    "            kernel_size=2, \n",
    "            stride=2)\n",
    "        self.up_convolution_2 = double_convolution(512, 256)\n",
    "        self.up_transpose_3 = nn.ConvTranspose2d(\n",
    "            in_channels=256, out_channels=128,\n",
    "            kernel_size=2, \n",
    "            stride=2)\n",
    "        self.up_convolution_3 = double_convolution(256, 128)\n",
    "        self.up_transpose_4 = nn.ConvTranspose2d(\n",
    "            in_channels=128, out_channels=64,\n",
    "            kernel_size=2, \n",
    "            stride=2)\n",
    "        self.up_convolution_4 = double_convolution(128, 64)\n",
    "        # output => out_channels as per the number of classes.\n",
    "        self.out = nn.Conv2d(\n",
    "            in_channels=64, out_channels=num_classes, \n",
    "            kernel_size=1\n",
    "        ) \n",
    "    def forward(self, x):\n",
    "        down_1 = self.down_convolution_1(x)\n",
    "        down_2 = self.max_pool2d(down_1)\n",
    "        down_3 = self.down_convolution_2(down_2)\n",
    "        down_4 = self.max_pool2d(down_3)\n",
    "        down_5 = self.down_convolution_3(down_4)\n",
    "        down_6 = self.max_pool2d(down_5)\n",
    "        down_7 = self.down_convolution_4(down_6)\n",
    "        down_8 = self.max_pool2d(down_7)\n",
    "        down_9 = self.down_convolution_5(down_8)        \n",
    "        \n",
    "        up_1 = self.up_transpose_1(down_9)\n",
    "        x = self.up_convolution_1(torch.cat([down_7, up_1], 1))\n",
    "        up_2 = self.up_transpose_2(x)\n",
    "        x = self.up_convolution_2(torch.cat([down_5, up_2], 1))\n",
    "        up_3 = self.up_transpose_3(x)\n",
    "        x = self.up_convolution_3(torch.cat([down_3, up_3], 1))\n",
    "        up_4 = self.up_transpose_4(x)\n",
    "        x = self.up_convolution_4(torch.cat([down_1, up_4], 1))\n",
    "        out = self.out(x)\n",
    "        return out"
   ]
  },
  {
   "cell_type": "code",
   "execution_count": null,
   "id": "b7f9d1bd-aaab-42df-a4b3-a6cc5bbe4aaa",
   "metadata": {},
   "outputs": [],
   "source": [
    "class MNISTDataset(Dataset):\n",
    "\n",
    "    def __init__(self, num_samples=1000, val_chiffre=range(0, 10)): #Par défaut on prend tous les types de chiffre\n",
    "        transform = transforms.Compose([\n",
    "            transforms.ToTensor(),\n",
    "            transforms.Normalize((0.5,), (0.5,))\n",
    "        ])\n",
    "        \n",
    "        train_dataset = datasets.MNIST(root=\"./data\", train=True, transform=transform, download=True)\n",
    "\n",
    "        train_images = train_dataset.data.unsqueeze(1).float() / 255\n",
    "        train_images = (train_images - 0.5) / 0.5\n",
    "        position = torch.randperm(train_images.shape[0])[:num_samples]\n",
    "        train_images = train_images[position]\n",
    "\n",
    "        self.data = train_images\n",
    "        self.num_samples = num_samples\n",
    "        self.dim = train_images.shape\n",
    "\n",
    "    def __len__(self):\n",
    "        return self.num_samples\n",
    "\n",
    "    def __getitem__(self, idx):\n",
    "        return self.data[idx]"
   ]
  },
  {
   "cell_type": "markdown",
   "id": "34cafedf-9e36-483f-aec0-35b74ccd9ccf",
   "metadata": {},
   "source": [
    "<p>On change aussi la routine qui n'est plus la même vu qu'on a des images et plus des simples points à plot</p>"
   ]
  },
  {
   "cell_type": "code",
   "execution_count": null,
   "id": "781671dd-e2d6-4813-991f-dfbf7b1945d9",
   "metadata": {},
   "outputs": [],
   "source": [
    "def routine(network, model, dataset, dataloader, num_epochs, num_timesteps, num_points_genere, figsize=(16,4), lr=1e-3):\n",
    "    \n",
    "    optimizer = torch.optim.Adam(network.parameters(), lr=lr)\n",
    "    training_loop(model, dataloader, optimizer, num_epochs, num_timesteps)\n",
    "\n",
    "    X, evolution_X = genere_points(num_points_genere, model)\n",
    "    #show_points(X)\n",
    "\n",
    "    fig, axes = plt.subplots(1, num_point_genere, figsize=figsize)\n",
    "\n",
    "    inverse_transform = transforms.Compose([\n",
    "    transforms.Normalize(mean=[-0.5 / 0.5], std=[1 / 0.5]),  # Dénormalisation\n",
    "    transforms.ToPILImage()  # Convertir le tenseur en image PIL\n",
    "    ])\n",
    "    \n",
    "    for i in range(num_point_genere):\n",
    "        img = inverse_tranform(X[i])\n",
    "        axes[i].imshow(img)\n",
    "\n",
    "    plt.tight_layout()\n",
    "    plt.show()\n",
    "\n",
    "    return X"
   ]
  },
  {
   "cell_type": "code",
   "execution_count": null,
   "id": "5388c370-2bda-428c-a8cb-7fb15c820a9f",
   "metadata": {},
   "outputs": [],
   "source": [
    "num_samples = 1000\n",
    "batch_size = 256\n",
    "\n",
    "dataset_mnist = MNISTDataset(num_samples=num_samples)\n",
    "#show_points(dataset_mnist.data)\n",
    "dataloader_mnist = DataLoader(dataset_mnist, batch_size=batch_size, shuffle=True)"
   ]
  },
  {
   "cell_type": "code",
   "execution_count": null,
   "id": "1753d0e7-9069-4f8c-a054-92ffe2974895",
   "metadata": {},
   "outputs": [],
   "source": [
    "num_epochs = 10\n",
    "num_timesteps = 50\n",
    "\n",
    "network_mnist = UNet(10)\n",
    "model_mnist = Diff(network_mnist,num_timesteps,device = device)\n",
    "model_mnist.plot_alphacumprods()\n",
    "print(network_mnist)"
   ]
  },
  {
   "cell_type": "code",
   "execution_count": null,
   "id": "8899fef0-1653-41a8-a4dd-fd79402bc4b1",
   "metadata": {},
   "outputs": [],
   "source": [
    "X = routine(network_mnist, model_mnist, dataset_mnist, dataloader_mnist, 10, num_timesteps, 3, figsize=(40, 4))"
   ]
  },
  {
   "cell_type": "code",
   "execution_count": null,
   "id": "3b6eb25a-8644-4a35-aca7-f76e887ba70e",
   "metadata": {},
   "outputs": [],
   "source": [
    "t1 = torch.tensor([1, 2, 3])\n",
    "t2 = torch.tensor([[1, 2, 3],\n",
    "                   [1, 2, 3],\n",
    "                   [1, 2, 3]])\n",
    "print(t1 * t2)"
   ]
  },
  {
   "cell_type": "code",
   "execution_count": null,
   "id": "e9b46e52-5e4e-4e81-b266-9f5a7776f7be",
   "metadata": {},
   "outputs": [],
   "source": []
  }
 ],
 "metadata": {
  "accelerator": "GPU",
  "colab": {
   "gpuType": "T4",
   "provenance": []
  },
  "kernelspec": {
   "display_name": "Python 3 (ipykernel)",
   "language": "python",
   "name": "python3"
  },
  "language_info": {
   "codemirror_mode": {
    "name": "ipython",
    "version": 3
   },
   "file_extension": ".py",
   "mimetype": "text/x-python",
   "name": "python",
   "nbconvert_exporter": "python",
   "pygments_lexer": "ipython3",
   "version": "3.12.3"
  }
 },
 "nbformat": 4,
 "nbformat_minor": 5
}
